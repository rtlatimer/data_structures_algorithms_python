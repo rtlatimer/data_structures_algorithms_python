{
 "cells": [
  {
   "cell_type": "markdown",
   "metadata": {},
   "source": [
    "# Binary Search Tree Check \n",
    "\n",
    "## Problem Statement\n",
    "\n",
    "Given a binary tree, check whether it’s a binary search tree or not.\n",
    "\n",
    "\n",
    "## Solution\n",
    "\n",
    "Fill out your solution below:\n",
    "If a tree is a binary search tree, then traversing the tree inorder should lead to sorted order of the values in the tree. So, we can perform an inorder traversal and check whether the node values are sorted or not."
   ]
  },
  {
   "cell_type": "code",
   "execution_count": null,
   "metadata": {
    "collapsed": true
   },
   "outputs": [],
   "source": [
    "tree_vals = []\n",
    "\n",
    "def inorder(tree):\n",
    "    if tree != None:\n",
    "        inorder(tree.GetLeftChild())\n",
    "        tree_vals.append(tree.getRootVal())\n",
    "        inorder(tree.GetRightChild())\n",
    "        \n",
    "def sort(tree_vals):\n",
    "    return tree_vals == sorted(tree_vals)\n",
    "\n",
    "inorder(tree)\n",
    "sort_check(tree_vals)"
   ]
  },
  {
   "cell_type": "markdown",
   "metadata": {},
   "source": [
    "Another classic solution is to keep track of the minimum and maximum values a node can take. And at each node we will check whether its value is between the min and max values it’s allowed to take. The root can take any value between negative infinity and positive infinity. At any node, its left child should be smaller than or equal than its own value, and similarly the right child should be larger than or equal to. So during recursion, we send the current value as the new max to our left child and send the min as it is without changing. And to the right child, we send the current value as the new min and send the max without changing."
   ]
  },
  {
   "cell_type": "code",
   "execution_count": 22,
   "metadata": {},
   "outputs": [],
   "source": [
    "# create a node class\n",
    "class Node(object):\n",
    "    \n",
    "    def __init__(self, k, val):\n",
    "        self.key = k # key is the number that determines position\n",
    "        self.value = val # value is the payload\n",
    "        self.left = None # left child\n",
    "        self.right = None # right child\n",
    "        \n",
    "\n",
    "def tree_max(node):\n",
    "    if not node: # if there is no max node return value of -inf\n",
    "        return float(\"-inf\")\n",
    "    # recursive call, will continue to follow down the left nodes.\n",
    "    # once it reaches a leaf, it should '-inf' will be triggered\n",
    "    maxleft = tree_max(node.left) \n",
    "    maxright = tree_max(node.right) # keep following down right nodes\n",
    "    return max(node.key,maxleft,maxright) # return the max value which should be the node key vs -inf\n",
    "\n",
    "def tree_min(node):\n",
    "    if not node: # if there is no node to check, return \"inf\"\n",
    "        return float(\"inf\")\n",
    "    minleft = tree_min(node.left) # follow tree to left\n",
    "    minright = tree_min(node.right) # follow tree to right\n",
    "    return min(node.key, minleft, minright) # return the smallest value\n",
    "\n",
    "def verify(node):\n",
    "    if not node: # if no node then BST qualifies?\n",
    "        return True\n",
    "    # left node should be smaller than root which should be smaller than right node\n",
    "    if (tree_max(node.left) <= node.key <= tree_min(node.right) and verify(node.left) and verify(node.right)):\n",
    "        return True\n",
    "    else:\n",
    "        return False\n",
    "    \n"
   ]
  },
  {
   "cell_type": "code",
   "execution_count": 23,
   "metadata": {},
   "outputs": [
    {
     "name": "stdout",
     "output_type": "stream",
     "text": [
      "True\n",
      "False\n"
     ]
    }
   ],
   "source": [
    "root= Node(10, \"Hello\")\n",
    "root.left = Node(5, \"Five\")\n",
    "root.right= Node(30, \"Thirty\")\n",
    "\n",
    "print(verify(root)) # prints True, since this tree is valid\n",
    "\n",
    "root = Node(10, \"Ten\")\n",
    "root.right = Node(20, \"Twenty\")\n",
    "root.left = Node(5, \"Five\")\n",
    "root.left.right = Node(15, \"Fifteen\")\n",
    "\n",
    "print(verify(root)) # prints False, since 15 is to the left of 10"
   ]
  },
  {
   "cell_type": "code",
   "execution_count": 26,
   "metadata": {},
   "outputs": [
    {
     "name": "stdout",
     "output_type": "stream",
     "text": [
      "True\n"
     ]
    }
   ],
   "source": [
    "root= Node(10, \"Hello\")\n",
    "root.left = Node(5, \"Five\")\n",
    "root.left.left = Node(2, \"Two\")\n",
    "root.left.right = Node(8, \"Eight\")\n",
    "root.right= Node(30, \"Thirty\")\n",
    "root.right.left = Node(20, \"Twenty\")\n",
    "root.right.right = Node(40, \"Forty\")\n",
    "\n",
    "\n",
    "print(verify(root)) # prints True, since this tree is valid"
   ]
  },
  {
   "cell_type": "markdown",
   "metadata": {},
   "source": [
    "This is a classic interview problem, so feel free to just Google search \"Validate BST\" for more information on this problem!"
   ]
  }
 ],
 "metadata": {
  "kernelspec": {
   "display_name": "Python 2",
   "language": "python",
   "name": "python2"
  },
  "language_info": {
   "codemirror_mode": {
    "name": "ipython",
    "version": 2
   },
   "file_extension": ".py",
   "mimetype": "text/x-python",
   "name": "python",
   "nbconvert_exporter": "python",
   "pygments_lexer": "ipython2",
   "version": "2.7.13"
  }
 },
 "nbformat": 4,
 "nbformat_minor": 1
}
