{
 "cells": [
  {
   "cell_type": "markdown",
   "metadata": {},
   "source": [
    "# Binary Heap Implementation\n",
    "\n",
    "Here is the reference code for the Binary Heap Implementation. Make sure to refer to the video lecture for the full explanation!"
   ]
  },
  {
   "cell_type": "markdown",
   "metadata": {},
   "source": [
    "### Binary Heap Operations\n",
    "**The basic operations we will implement for our binary heap are as follows:**\n",
    "\n",
    "* BinaryHeap() creates a new, empty, binary heap.\n",
    "* insert(k) adds a new item to the heap.\n",
    "* findMin() returns the item with the minimum key value, leaving item in the heap.\n",
    "* delMin() returns the item with the minimum key value, removing the item from the heap.\n",
    "* isEmpty() returns true if the heap is empty, false otherwise.\n",
    "* size() returns the number of items in the heap.\n",
    "* buildHeap(list) builds a new heap from a list of keys."
   ]
  },
  {
   "cell_type": "markdown",
   "metadata": {},
   "source": [
    "Remember the 2p for left child and 2p + 1 for right child.\n",
    "\n",
    "[0,5(root),7(left child),10(right child),13(left child left child), 14(left child right child), 18 (right child left child), 23 (right child right child)]\n",
    "\n",
    "**[0,5,7,10,13,14,18,23]**\n",
    "\n",
    "              5\n",
    "            /   \\\n",
    "           /     \\\n",
    "          7       10\n",
    "         / \\     / \\\n",
    "        /   \\   /   \\\n",
    "       13   14 18    23\n"
   ]
  },
  {
   "cell_type": "code",
   "execution_count": 4,
   "metadata": {
    "collapsed": true
   },
   "outputs": [],
   "source": [
    "# create a Binary Heap class\n",
    "class BinHeap(object):\n",
    "    \n",
    "    # initialize the class\n",
    "    def __init__(self):\n",
    "        self.heapList = [0] # head represented by list\n",
    "        self.currentSize = 0 # default size = 0\n",
    "\n",
    "    # percolate up function moves the smallest value up and largest down\n",
    "    # i = index\n",
    "    def percUp(self,i):\n",
    "        # i // 2 = the parent node of the index we are considering\n",
    "        while i // 2 > 0: # remains true if index we are considering is not the root\n",
    "            # if the value of the node we are considering is smaller than its parent node\n",
    "            if self.heapList[i] < self.heapList[i // 2]:\n",
    "                \n",
    "                # set 'tmp' equal to the parent node\n",
    "                tmp = self.heapList[i // 2]\n",
    "                # set the parent node equal to the child node\n",
    "                self.heapList[i // 2] = self.heapList[i]\n",
    "                # set the child node equal to the tmp\n",
    "                self.heapList[i] = tmp\n",
    "            i = i // 2 # move i up a node\n",
    "\n",
    "    # insert method. k == new node value\n",
    "    def insert(self,k):\n",
    "        # add k to the heapList. Adds to a bottom node\n",
    "        self.heapList.append(k)\n",
    "        self.currentSize = self.currentSize + 1 # add 1 to the currentSize\n",
    "        self.percUp(self.currentSize) # call the percUp method on the inserted node\n",
    "\n",
    "    # if we delete the smallest node, we may need to percolate down\n",
    "    def percDown(self,i):\n",
    "        \n",
    "        # while the node considered has a child \n",
    "        while (i * 2) <= self.currentSize:\n",
    "            \n",
    "            mc = self.minChild(i) # set mc = the minChild method which returns the smaller of the two children\n",
    "            \n",
    "            # if the parent value is greater than the child value\n",
    "            if self.heapList[i] > self.heapList[mc]: \n",
    "                \n",
    "                tmp = self.heapList[i] # set tmp equal to the parent\n",
    "                self.heapList[i] = self.heapList[mc] # set the parent equal to child value\n",
    "                self.heapList[mc] = tmp # set child value equal to tmp\n",
    "            i = mc # move down the tree\n",
    "\n",
    "    def minChild(self,i):\n",
    "        # if the parent does not have a right child\n",
    "        if i * 2 + 1 > self.currentSize:\n",
    "            # return the left child\n",
    "            return i * 2\n",
    "        else:\n",
    "            # if the left child < right child\n",
    "            if self.heapList[i*2] < self.heapList[i*2+1]:\n",
    "                return i * 2 # return the left child\n",
    "            else:\n",
    "                return i * 2 + 1 # return the right child\n",
    "\n",
    "    # function to delete the smallest node\n",
    "    def delMin(self):\n",
    "        # since smallest should be the root, we set retval = value at index[1]\n",
    "        retval = self.heapList[1]\n",
    "        # set the root equal to the value at the end of the index (most distant child)\n",
    "        self.heapList[1] = self.heapList[self.currentSize]\n",
    "        self.currentSize = self.currentSize - 1 # subtract 1 from the current size\n",
    "        self.heapList.pop() # pop the last value from heapList (it's moved to the root)\n",
    "        self.percDown(1) # call the percDown method to restructure the heap\n",
    "        return retval # return the value of the min node that was deleted\n",
    "    \n",
    "    # function to build a heap, given a list\n",
    "    def buildHeap(self,alist):\n",
    "        i = len(alist) // 2 # set i equal to the last child's parent\n",
    "        self.currentSize = len(alist) # set the current size\n",
    "        self.heapList = [0] + alist[:] # append the list to [0]\n",
    "        while (i > 0): # while the index is at the root or lower\n",
    "            self.percDown(i) # call percDown method to structure the heap\n",
    "            i = i - 1 # subtract 1 from i (this would move you from a right child to a left child)"
   ]
  },
  {
   "cell_type": "code",
   "execution_count": 5,
   "metadata": {
    "collapsed": true
   },
   "outputs": [],
   "source": [
    "heap = BinHeap()"
   ]
  },
  {
   "cell_type": "code",
   "execution_count": 6,
   "metadata": {
    "collapsed": true
   },
   "outputs": [],
   "source": [
    "heap.buildHeap([9,6,5,2,3])"
   ]
  },
  {
   "cell_type": "code",
   "execution_count": 8,
   "metadata": {},
   "outputs": [
    {
     "name": "stdout",
     "output_type": "stream",
     "text": [
      "[0, 2, 3, 5, 6, 9]\n"
     ]
    }
   ],
   "source": [
    "print heap.heapList"
   ]
  },
  {
   "cell_type": "code",
   "execution_count": 10,
   "metadata": {},
   "outputs": [
    {
     "data": {
      "text/plain": [
       "4"
      ]
     },
     "execution_count": 10,
     "metadata": {},
     "output_type": "execute_result"
    }
   ],
   "source": [
    "# What is the min child of the node at index 2 (3).\n",
    "# It will either return index 4(6) or 5(9)\n",
    "heap.minChild(2)"
   ]
  },
  {
   "cell_type": "code",
   "execution_count": 11,
   "metadata": {},
   "outputs": [
    {
     "data": {
      "text/plain": [
       "2"
      ]
     },
     "execution_count": 11,
     "metadata": {},
     "output_type": "execute_result"
    }
   ],
   "source": [
    "heap.delMin()"
   ]
  },
  {
   "cell_type": "code",
   "execution_count": 12,
   "metadata": {},
   "outputs": [
    {
     "name": "stdout",
     "output_type": "stream",
     "text": [
      "[0, 3, 6, 5, 9]\n"
     ]
    }
   ],
   "source": [
    "print heap.heapList"
   ]
  },
  {
   "cell_type": "markdown",
   "metadata": {
    "collapsed": true
   },
   "source": [
    "A min heap needs to be structured with the smallest values at the root.\n",
    "Each parent node should be a smaller value than each child.\n",
    "\n",
    "To convert, let's start with a tree and convert it into a min heap.\n",
    "\n",
    "              9\n",
    "            /   \\\n",
    "           /     \\\n",
    "          6       5\n",
    "         / \\   \n",
    "        /   \\  \n",
    "       2     3       \n",
    "\n",
    "\n",
    "2 is the smallest value, so we will flip that with the 6.\n",
    "\n",
    "              9\n",
    "            /   \\\n",
    "           /     \\\n",
    "        > 2       5\n",
    "       / / \\   \n",
    "      ( /   \\  \n",
    "      >6     3\n",
    "       \n",
    " \n",
    " Then we flip the 9 and the 2.\n",
    " \n",
    "              2\n",
    "            /   \\\n",
    "           /     \\\n",
    "          9       5\n",
    "         / \\   \n",
    "        /   \\  \n",
    "       6     3\n",
    "\n",
    "Because the 3 is smaller than the 9, we will flip them.\n",
    "\n",
    "              2\n",
    "            /   \\\n",
    "           /     \\\n",
    "          3       5\n",
    "         / \\   \n",
    "        /   \\  \n",
    "       6     9\n",
    "       \n",
    "Complete!"
   ]
  },
  {
   "cell_type": "code",
   "execution_count": null,
   "metadata": {
    "collapsed": true
   },
   "outputs": [],
   "source": []
  }
 ],
 "metadata": {
  "kernelspec": {
   "display_name": "Python 2",
   "language": "python",
   "name": "python2"
  },
  "language_info": {
   "codemirror_mode": {
    "name": "ipython",
    "version": 2
   },
   "file_extension": ".py",
   "mimetype": "text/x-python",
   "name": "python",
   "nbconvert_exporter": "python",
   "pygments_lexer": "ipython2",
   "version": "2.7.13"
  }
 },
 "nbformat": 4,
 "nbformat_minor": 1
}
