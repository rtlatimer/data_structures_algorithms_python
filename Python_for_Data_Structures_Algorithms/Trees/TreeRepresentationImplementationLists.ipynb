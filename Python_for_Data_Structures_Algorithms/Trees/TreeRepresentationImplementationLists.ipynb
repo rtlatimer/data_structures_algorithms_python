{
 "cells": [
  {
   "cell_type": "markdown",
   "metadata": {},
   "source": [
    "# Tree Representation Implementation (Lists)\n",
    "\n",
    "Below is a representation of a Tree using a list of lists. Refer to the video lecture for an explanation and a live coding demonstration!"
   ]
  },
  {
   "cell_type": "code",
   "execution_count": 1,
   "metadata": {
    "collapsed": true
   },
   "outputs": [],
   "source": [
    "# start by creating a function called BinaryTree that takes in one argument 'r' for 'root node'\n",
    "# returns r (root node) and 2 empty lists for the children\n",
    "def BinaryTree(r):\n",
    "    return [r, [], []]\n",
    "\n",
    "# Function to insert a left child which takes in the root and a newBranch\n",
    "def insertLeft(root,newBranch):\n",
    "    # set t = the the root list item found at index 1 (index 2 would be the right child)\n",
    "    t = root.pop(1)\n",
    "    # if t already has something in it (besides a blank list)\n",
    "    if len(t) > 1:\n",
    "        root.insert(1,[newBranch,t,[]]) # then add a newbranch with an empty list\n",
    "    else: # if t <= 1 then we will insert a new branch with 2 empty lists\n",
    "        root.insert(1,[newBranch, [], []])\n",
    "    return root # return the root we affected\n",
    "\n",
    "# Very similar to insertLeft\n",
    "def insertRight(root,newBranch):\n",
    "    t = root.pop(2) #correspond to right child at index 2\n",
    "    if len(t) > 1:\n",
    "        root.insert(2,[newBranch,[],t]) # notice re-order because inserting on right\n",
    "    else:\n",
    "        root.insert(2,[newBranch,[],[]])\n",
    "    return root\n",
    "\n",
    "# returns the root (found at index 0)\n",
    "def getRootVal(root):\n",
    "    return root[0]\n",
    "\n",
    "# change the value of the root\n",
    "def setRootVal(root,newVal):\n",
    "    root[0] = newVal\n",
    "\n",
    "# return the left child (found at index 1)\n",
    "def getLeftChild(root):\n",
    "    return root[1]\n",
    "\n",
    "# return the right child (found at index 2)\n",
    "def getRightChild(root):\n",
    "    return root[2]"
   ]
  },
  {
   "cell_type": "code",
   "execution_count": 3,
   "metadata": {},
   "outputs": [
    {
     "name": "stdout",
     "output_type": "stream",
     "text": [
      "[3, [], []]\n"
     ]
    }
   ],
   "source": [
    "r = BinaryTree(3)\n",
    "print r"
   ]
  },
  {
   "cell_type": "markdown",
   "metadata": {},
   "source": [
    "So right now, our tree looks like this:\n",
    "\n",
    "          3\n",
    "         / \\\n",
    "        /   \\\n",
    "       []   []"
   ]
  },
  {
   "cell_type": "code",
   "execution_count": 4,
   "metadata": {},
   "outputs": [
    {
     "data": {
      "text/plain": [
       "[3, [4, [], []], []]"
      ]
     },
     "execution_count": 4,
     "metadata": {},
     "output_type": "execute_result"
    }
   ],
   "source": [
    "# let's add a left child, so we feed the function our tree (r) and the value of the child\n",
    "insertLeft(r,4)"
   ]
  },
  {
   "cell_type": "markdown",
   "metadata": {},
   "source": [
    "After adding the left child, our tree now looks like this:\n",
    "\n",
    "          3\n",
    "         / \\\n",
    "        /   \\\n",
    "       4    []\n",
    "      / \\\n",
    "     /   \\\n",
    "    []   []"
   ]
  },
  {
   "cell_type": "code",
   "execution_count": 5,
   "metadata": {},
   "outputs": [
    {
     "data": {
      "text/plain": [
       "[3, [5, [4, [], []], []], []]"
      ]
     },
     "execution_count": 5,
     "metadata": {},
     "output_type": "execute_result"
    }
   ],
   "source": [
    "# let's insert another left child\n",
    "insertLeft(r,5)"
   ]
  },
  {
   "cell_type": "markdown",
   "metadata": {},
   "source": [
    "After adding the left child, our tree now looks like this:\n",
    "\n",
    "              3\n",
    "             / \\\n",
    "            /   \\\n",
    "           5    []\n",
    "          / \\\n",
    "         /   \\\n",
    "        4    []\n",
    "       / \\\n",
    "      /   \\\n",
    "     []   []\n",
    " "
   ]
  },
  {
   "cell_type": "code",
   "execution_count": 6,
   "metadata": {},
   "outputs": [
    {
     "data": {
      "text/plain": [
       "[3, [5, [4, [], []], []], [6, [], []]]"
      ]
     },
     "execution_count": 6,
     "metadata": {},
     "output_type": "execute_result"
    }
   ],
   "source": [
    "insertRight(r,6)"
   ]
  },
  {
   "cell_type": "markdown",
   "metadata": {},
   "source": [
    "After adding the right child, our tree now looks like this:\n",
    "\n",
    "              3\n",
    "            /   \\\n",
    "           /     \\\n",
    "          5       6\n",
    "         / \\     / \\\n",
    "        /   \\   /   \\\n",
    "       4    [] []   []\n",
    "      / \\\n",
    "     /   \\\n",
    "    []   []\n",
    " "
   ]
  },
  {
   "cell_type": "code",
   "execution_count": 7,
   "metadata": {},
   "outputs": [
    {
     "data": {
      "text/plain": [
       "[3, [5, [4, [], []], []], [7, [], [6, [], []]]]"
      ]
     },
     "execution_count": 7,
     "metadata": {},
     "output_type": "execute_result"
    }
   ],
   "source": [
    "insertRight(r,7)"
   ]
  },
  {
   "cell_type": "markdown",
   "metadata": {},
   "source": [
    "After adding the right child, our tree now looks like this:\n",
    "\n",
    "              3\n",
    "            /   \\\n",
    "           /     \\\n",
    "          5       7\n",
    "         / \\     / \\\n",
    "        /   \\   /   \\\n",
    "       4    [] []    6\n",
    "      / \\           / \\\n",
    "     /   \\         /   \\\n",
    "    []   []       []   []\n",
    " "
   ]
  },
  {
   "cell_type": "code",
   "execution_count": 8,
   "metadata": {
    "collapsed": true
   },
   "outputs": [],
   "source": [
    "l = getLeftChild(r)"
   ]
  },
  {
   "cell_type": "code",
   "execution_count": 9,
   "metadata": {},
   "outputs": [
    {
     "name": "stdout",
     "output_type": "stream",
     "text": [
      "[5, [4, [], []], []]\n"
     ]
    }
   ],
   "source": [
    "print l"
   ]
  }
 ],
 "metadata": {
  "kernelspec": {
   "display_name": "Python 2",
   "language": "python",
   "name": "python2"
  },
  "language_info": {
   "codemirror_mode": {
    "name": "ipython",
    "version": 2
   },
   "file_extension": ".py",
   "mimetype": "text/x-python",
   "name": "python",
   "nbconvert_exporter": "python",
   "pygments_lexer": "ipython2",
   "version": "2.7.13"
  }
 },
 "nbformat": 4,
 "nbformat_minor": 1
}
