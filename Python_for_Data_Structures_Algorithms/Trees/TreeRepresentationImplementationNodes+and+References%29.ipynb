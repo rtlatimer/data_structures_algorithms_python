{
 "cells": [
  {
   "cell_type": "markdown",
   "metadata": {},
   "source": [
    "# Nodes and References Implementation of a Tree\n",
    "\n",
    "In this notebook is the code corresponding to the lecture for implementing the representation of a Tree as a class with nodes and references!"
   ]
  },
  {
   "cell_type": "code",
   "execution_count": 2,
   "metadata": {
    "collapsed": true
   },
   "outputs": [],
   "source": [
    "# Create a Binary Tree object class\n",
    "class BinaryTree(object):\n",
    "    \n",
    "    # initialize the class that takes in a root object\n",
    "    def __init__(self,rootObj):\n",
    "        self.key = rootObj # this is the value of the node\n",
    "        self.leftChild = None # start with no children\n",
    "        self.rightChild = None\n",
    "\n",
    "    # insert a left child\n",
    "    def insertLeft(self,newNode):\n",
    "        if self.leftChild == None: # if the left is empty\n",
    "            self.leftChild = BinaryTree(newNode) # then it is equal to a new instance of binary tree\n",
    "        else: # if there already is a node, we create a new one and push the existing child down the tree\n",
    "            t = BinaryTree(newNode) # set variable t = a binary tree instance with a new node\n",
    "            t.leftChild = self.leftChild # set the new tree's left child to the existing node\n",
    "            self.leftChild = t # then set the left child of the root = t\n",
    "\n",
    "    # insert a right child\n",
    "    def insertRight(self,newNode):\n",
    "        if self.rightChild == None: # if there is not right child\n",
    "            self.rightChild = BinaryTree(newNode) # the right child is a Binary Tree instance w/ new node\n",
    "        else: # if there already is a right child\n",
    "            t = BinaryTree(newNode) # define variable t = a binary tree instance\n",
    "            t.rightChild = self.rightChild # set t's right child equal to the current right child of the root\n",
    "            self.rightChild = t # set the root's right child = t\n",
    "\n",
    "    # return the right child\n",
    "    def getRightChild(self):\n",
    "        return self.rightChild\n",
    "    \n",
    "    # return the left child\n",
    "    def getLeftChild(self):\n",
    "        return self.leftChild\n",
    "\n",
    "    # change the root value\n",
    "    def setRootVal(self,obj): # obj is the new value\n",
    "        self.key = obj\n",
    "    \n",
    "    # return the root value\n",
    "    def getRootVal(self):\n",
    "        return self.key"
   ]
  },
  {
   "cell_type": "markdown",
   "metadata": {},
   "source": [
    "We can see some examples of creating a tree and assigning children. Note that some outputs are Trees themselves!"
   ]
  },
  {
   "cell_type": "code",
   "execution_count": 3,
   "metadata": {},
   "outputs": [
    {
     "name": "stdout",
     "output_type": "stream",
     "text": [
      "a\n",
      "None\n"
     ]
    }
   ],
   "source": [
    "# create an binary tree object with a value of 'a'\n",
    "r = BinaryTree('a')\n",
    "print(r.getRootVal()) # should return 'a'\n",
    "print(r.getLeftChild()) # should return None, since we don't have a leftchild yet\n"
   ]
  },
  {
   "cell_type": "code",
   "execution_count": 4,
   "metadata": {},
   "outputs": [
    {
     "name": "stdout",
     "output_type": "stream",
     "text": [
      "<__main__.BinaryTree object at 0x1110ad590>\n",
      "b\n"
     ]
    }
   ],
   "source": [
    "r.insertLeft('b') # insert a left child with value 'b'\n",
    "print(r.getLeftChild()) # should return a binary tree object\n",
    "print(r.getLeftChild().getRootVal()) # should return 'b'\n"
   ]
  },
  {
   "cell_type": "code",
   "execution_count": 5,
   "metadata": {},
   "outputs": [
    {
     "name": "stdout",
     "output_type": "stream",
     "text": [
      "<__main__.BinaryTree object at 0x1110ad9d0>\n",
      "c\n"
     ]
    }
   ],
   "source": [
    "r.insertRight('c')\n",
    "print(r.getRightChild())\n",
    "print(r.getRightChild().getRootVal())\n"
   ]
  },
  {
   "cell_type": "code",
   "execution_count": 6,
   "metadata": {},
   "outputs": [
    {
     "name": "stdout",
     "output_type": "stream",
     "text": [
      "hello\n"
     ]
    }
   ],
   "source": [
    "r.getRightChild().setRootVal('hello') # change the value of the right child from 'c' to 'hello'\n",
    "print(r.getRightChild().getRootVal())"
   ]
  },
  {
   "cell_type": "code",
   "execution_count": null,
   "metadata": {
    "collapsed": true
   },
   "outputs": [],
   "source": []
  }
 ],
 "metadata": {
  "kernelspec": {
   "display_name": "Python 2",
   "language": "python",
   "name": "python2"
  },
  "language_info": {
   "codemirror_mode": {
    "name": "ipython",
    "version": 2
   },
   "file_extension": ".py",
   "mimetype": "text/x-python",
   "name": "python",
   "nbconvert_exporter": "python",
   "pygments_lexer": "ipython2",
   "version": "2.7.13"
  }
 },
 "nbformat": 4,
 "nbformat_minor": 1
}
