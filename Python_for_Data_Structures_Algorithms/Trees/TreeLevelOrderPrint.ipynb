{
 "cells": [
  {
   "cell_type": "markdown",
   "metadata": {},
   "source": [
    "# Tree Level Order Print \n",
    "\n",
    "Given a binary tree of integers, print it in level order. The output will contain space between the numbers in the same level, and new line between different levels. For example, if the tree is: \n",
    "___\n",
    "![title](tree_print.png)\n",
    "___\n",
    "The output should be: \n",
    "\n",
    "    1 \n",
    "    2 3 \n",
    "    4 5 6"
   ]
  },
  {
   "cell_type": "markdown",
   "metadata": {},
   "source": [
    "## Solution\n",
    "\n",
    "Fill out your solution below:"
   ]
  },
  {
   "cell_type": "code",
   "execution_count": 118,
   "metadata": {
    "collapsed": true
   },
   "outputs": [],
   "source": [
    "class Node:\n",
    "    def __init__(self, val=None):\n",
    "        self.left = None\n",
    "        self.right = None\n",
    "        self.val =  val "
   ]
  },
  {
   "cell_type": "code",
   "execution_count": 119,
   "metadata": {
    "collapsed": true
   },
   "outputs": [],
   "source": [
    "nodist = Node(10)"
   ]
  },
  {
   "cell_type": "code",
   "execution_count": 120,
   "metadata": {},
   "outputs": [
    {
     "name": "stdout",
     "output_type": "stream",
     "text": [
      "10\n"
     ]
    }
   ],
   "source": [
    "print nodist.val"
   ]
  },
  {
   "cell_type": "code",
   "execution_count": 163,
   "metadata": {},
   "outputs": [],
   "source": [
    "nodist.left = Node(7)\n",
    "nodist.right = Node(8)\n",
    "nodist.left.left = Node(30)\n",
    "nodist.left.right = Node(31)\n",
    "nodist.right.left = Node(32)\n",
    "nodist.right.right = Node(33)\n",
    "nodist.left.left.left = Node(50)\n",
    "nodist.left.left.right = Node(51)\n",
    "nodist.left.right.left = Node(52)\n",
    "nodist.left.right.right = Node(53)\n",
    "nodist.right.left.left = Node(54)\n",
    "nodist.right.left.right = Node(55)\n",
    "nodist.right.right.left = Node(56)\n",
    "nodist.right.right.right = Node(57)"
   ]
  },
  {
   "cell_type": "code",
   "execution_count": 164,
   "metadata": {},
   "outputs": [
    {
     "name": "stdout",
     "output_type": "stream",
     "text": [
      "7\n"
     ]
    }
   ],
   "source": [
    "print nodist.left.val"
   ]
  },
  {
   "cell_type": "code",
   "execution_count": 165,
   "metadata": {},
   "outputs": [
    {
     "name": "stdout",
     "output_type": "stream",
     "text": [
      "30\n"
     ]
    }
   ],
   "source": [
    "print nodist.left.left.val"
   ]
  },
  {
   "cell_type": "code",
   "execution_count": 166,
   "metadata": {},
   "outputs": [
    {
     "data": {
      "text/plain": [
       "1"
      ]
     },
     "execution_count": 166,
     "metadata": {},
     "output_type": "execute_result"
    }
   ],
   "source": [
    "import collections\n",
    "\n",
    "d = collections.deque([1,2,3])\n",
    "d.popleft()"
   ]
  },
  {
   "cell_type": "code",
   "execution_count": 167,
   "metadata": {
    "collapsed": true
   },
   "outputs": [],
   "source": [
    "# create Dequeue helper class\n",
    "class Dequeue(object):\n",
    "    \n",
    "    def __init__(self):\n",
    "        self.line = []\n",
    "        \n",
    "    def insertFront(self, val):\n",
    "        self.line.append(val)\n",
    "    \n",
    "    def insertBack(self,val):\n",
    "        self.line.insert(0,val)\n",
    "        \n",
    "    def getFront(self):\n",
    "        return self.line.pop()\n",
    "    \n",
    "    def getBack(self):\n",
    "        return self.line.pop(0)\n",
    "    \n",
    "    def getlen(self):\n",
    "        return len(self.line)"
   ]
  },
  {
   "cell_type": "code",
   "execution_count": 168,
   "metadata": {},
   "outputs": [],
   "source": [
    "def levelOrderPrint(tree):\n",
    "    if not tree: # if no tree to check\n",
    "        return # return blank\n",
    "    nodes = Dequeue() # create a Dequeue instance called nodes\n",
    "    nodes.insertBack(tree) # append the root\n",
    "    current_count = 1 # set current_count to 1\n",
    "    next_count = 0 # set next_count to 0\n",
    "    while nodes.getlen() != 0: # while the nodes Dequeue has items\n",
    "        currentNode = nodes.getBack() # return the 1st item from dequeue\n",
    "        current_count -= 1 # subtract 1 from current_count\n",
    "        print currentNode.val, # print the value of the node\n",
    "        \n",
    "        if currentNode.left: # if the root has a left child\n",
    "            nodes.insertFront(currentNode.left) # add the child to the dequeue\n",
    "            next_count += 1 # add 1 to the next_count. This counts the number of children\n",
    "        \n",
    "        if currentNode.right: # if the root has a right child\n",
    "            nodes.insertFront(currentNode.right) # add that child to the dequeue\n",
    "            next_count += 1 # add 1 to the next_count\n",
    "            \n",
    "        if current_count == 0: #once current_count gets to 0, we have reached the end of a level\n",
    "            print ''\n",
    "            current_count,next_count = next_count,current_count # flip the current_count&next_count values\n",
    "            # we flip these values so we are now counting down from the appropriate number of nodes on a level\n"
   ]
  },
  {
   "cell_type": "code",
   "execution_count": 169,
   "metadata": {},
   "outputs": [
    {
     "name": "stdout",
     "output_type": "stream",
     "text": [
      "10 \n",
      "7 8 \n",
      "30 31 32 33 \n",
      "50 51 52 53 54 55 56 57 \n"
     ]
    }
   ],
   "source": [
    "levelOrderPrint(nodist)"
   ]
  }
 ],
 "metadata": {
  "kernelspec": {
   "display_name": "Python 2",
   "language": "python",
   "name": "python2"
  },
  "language_info": {
   "codemirror_mode": {
    "name": "ipython",
    "version": 2
   },
   "file_extension": ".py",
   "mimetype": "text/x-python",
   "name": "python",
   "nbconvert_exporter": "python",
   "pygments_lexer": "ipython2",
   "version": "2.7.13"
  }
 },
 "nbformat": 4,
 "nbformat_minor": 1
}
