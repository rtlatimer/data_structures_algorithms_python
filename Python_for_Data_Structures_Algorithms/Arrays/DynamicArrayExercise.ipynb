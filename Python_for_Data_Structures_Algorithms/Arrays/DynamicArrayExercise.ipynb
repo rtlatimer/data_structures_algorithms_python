{
 "cells": [
  {
   "cell_type": "markdown",
   "metadata": {},
   "source": [
    "# Dynamic Array Exercise\n",
    "____\n",
    "\n",
    "In this exercise we will create our own Dynamic Array class!\n",
    "\n",
    "We'll be using a built in library called [ctypes](https://docs.python.org/2/library/ctypes.html). Check out the documentation for more info, but its basically going to be used here as a raw array from the ctypes module.\n",
    "If you find yourself very interested in it, check out: [Ctypes Tutorial](http://starship.python.net/crew/theller/ctypes/tutorial.html)\n",
    "\n",
    "Also..."
   ]
  },
  {
   "cell_type": "markdown",
   "metadata": {},
   "source": [
    "### Quick Exercise on Byte Sizes of Lists\n",
    "\n",
    "A list instance often has a greater capacity than current length. If items keep getting added, then eventually this extra space runs out. As we keep adding elements, Python grabs more and more real estate in memory. This is kind of like a hermit crab grabbing larger and larger shells as it grows."
   ]
  },
  {
   "cell_type": "code",
   "execution_count": 8,
   "metadata": {},
   "outputs": [
    {
     "name": "stdout",
     "output_type": "stream",
     "text": [
      "Length:   0; Size in bytes:   72 \n",
      "Length:   1; Size in bytes:  104 \n",
      "Length:   2; Size in bytes:  104 \n",
      "Length:   3; Size in bytes:  104 \n",
      "Length:   4; Size in bytes:  104 \n",
      "Length:   5; Size in bytes:  136 \n",
      "Length:   6; Size in bytes:  136 \n",
      "Length:   7; Size in bytes:  136 \n",
      "Length:   8; Size in bytes:  136 \n",
      "Length:   9; Size in bytes:  200 \n",
      "Length:  10; Size in bytes:  200 \n",
      "Length:  11; Size in bytes:  200 \n",
      "Length:  12; Size in bytes:  200 \n",
      "Length:  13; Size in bytes:  200 \n",
      "Length:  14; Size in bytes:  200 \n",
      "Length:  15; Size in bytes:  200 \n",
      "Length:  16; Size in bytes:  200 \n",
      "Length:  17; Size in bytes:  272 \n",
      "Length:  18; Size in bytes:  272 \n",
      "Length:  19; Size in bytes:  272 \n",
      "Length:  20; Size in bytes:  272 \n",
      "Length:  21; Size in bytes:  272 \n",
      "Length:  22; Size in bytes:  272 \n",
      "Length:  23; Size in bytes:  272 \n",
      "Length:  24; Size in bytes:  272 \n",
      "Length:  25; Size in bytes:  272 \n",
      "Length:  26; Size in bytes:  352 \n",
      "Length:  27; Size in bytes:  352 \n",
      "Length:  28; Size in bytes:  352 \n",
      "Length:  29; Size in bytes:  352 \n",
      "Length:  30; Size in bytes:  352 \n",
      "Length:  31; Size in bytes:  352 \n",
      "Length:  32; Size in bytes:  352 \n",
      "Length:  33; Size in bytes:  352 \n",
      "Length:  34; Size in bytes:  352 \n",
      "Length:  35; Size in bytes:  352 \n",
      "Length:  36; Size in bytes:  440 \n",
      "Length:  37; Size in bytes:  440 \n",
      "Length:  38; Size in bytes:  440 \n",
      "Length:  39; Size in bytes:  440 \n",
      "Length:  40; Size in bytes:  440 \n",
      "Length:  41; Size in bytes:  440 \n",
      "Length:  42; Size in bytes:  440 \n",
      "Length:  43; Size in bytes:  440 \n",
      "Length:  44; Size in bytes:  440 \n",
      "Length:  45; Size in bytes:  440 \n",
      "Length:  46; Size in bytes:  440 \n",
      "Length:  47; Size in bytes:  536 \n",
      "Length:  48; Size in bytes:  536 \n",
      "Length:  49; Size in bytes:  536 \n"
     ]
    }
   ],
   "source": [
    "import sys\n",
    "\n",
    "n = 50\n",
    "\n",
    "data = []\n",
    "\n",
    "for i in range(n):\n",
    "    a = len(data)\n",
    "    b = sys.getsizeof(data)\n",
    "    print 'Length: {0:3d}; Size in bytes: {1:4d} '.format(a,b)\n",
    "    data.append(n)"
   ]
  },
  {
   "cell_type": "markdown",
   "metadata": {},
   "source": [
    "**A quick note on public vs private methods, we can use an underscore _ before the method name to keep it non-public. For example:**"
   ]
  },
  {
   "cell_type": "code",
   "execution_count": 9,
   "metadata": {
    "collapsed": true
   },
   "outputs": [],
   "source": [
    "# let's create an object class called M\n",
    "class M(object):\n",
    "\n",
    "# we will create 2 functions in the class\n",
    "# When creating an instance of M, we will be able to press Tab to see the public function\n",
    "    def public(self):\n",
    "        print 'Use Tab to see me!'\n",
    "\n",
    "# But we use an underscore in front of private, so we can't use Tab to see it\n",
    "# We do this because certain methods don't make sense for the user to call\n",
    "    def _private(self):\n",
    "        print \"You won't be able to Tab to see me!\""
   ]
  },
  {
   "cell_type": "code",
   "execution_count": 10,
   "metadata": {
    "collapsed": true
   },
   "outputs": [],
   "source": [
    "# click in the middle of the parentheses and press Tab to see a list of available functions\n",
    "m = M()"
   ]
  },
  {
   "cell_type": "code",
   "execution_count": 11,
   "metadata": {},
   "outputs": [
    {
     "name": "stdout",
     "output_type": "stream",
     "text": [
      "Use Tab to see me!\n"
     ]
    }
   ],
   "source": [
    "m.public()"
   ]
  },
  {
   "cell_type": "code",
   "execution_count": 12,
   "metadata": {},
   "outputs": [
    {
     "name": "stdout",
     "output_type": "stream",
     "text": [
      "You won't be able to Tab to see me!\n"
     ]
    }
   ],
   "source": [
    "m._private()"
   ]
  },
  {
   "cell_type": "markdown",
   "metadata": {},
   "source": [
    "Check out PEP 8 and the Python docs for more info on this!\n",
    "_____\n",
    "\n",
    "### Dynamic Array Implementation"
   ]
  },
  {
   "cell_type": "markdown",
   "metadata": {},
   "source": [
    "#### What is a Dynamic Array?"
   ]
  },
  {
   "cell_type": "markdown",
   "metadata": {},
   "source": [
    "A dynamic array automatically grows when you try to make an insertion and there is no more space left for the new item. If an element is appended to a list at a time when the underlying array is full, we need to apply the following steps to allow our array to automatically grow in size to compensate for the new element.\n",
    " - First, we allocate a new array (**B**) with a larger capacity than **A**. (A common rule is to make the capacity of the new array twice the size of the array that has been filled.\n",
    " - Set all of the **B** values equal to the **A** values.\n",
    " - Set **A** equal to **B** and henceforth use **B** as the array supporting list.\n",
    " - Then insert a new element into the array."
   ]
  },
  {
   "cell_type": "code",
   "execution_count": 13,
   "metadata": {},
   "outputs": [],
   "source": [
    "# let's import the ctypes module\n",
    "# ctypes provides C compatible data types, and allows calling functions in DLLs or shared libraries\n",
    "import ctypes\n",
    "\n",
    "# Let's create our Dynamic Array class\n",
    "class DynamicArray(object):\n",
    "    '''\n",
    "    DYNAMIC ARRAY CLASS (Similar to Python List)\n",
    "    '''\n",
    "    # first we initialize our Dynamic Array\n",
    "    def __init__(self):\n",
    "        self.n = 0 # Count actual elements (Default is 0)\n",
    "        self.capacity = 1 # Default Capacity. Can accept only 1 element at default\n",
    "        self.A = self.make_array(self.capacity) # we need to build the make_array() method\n",
    "        \n",
    "    def __len__(self):\n",
    "        \"\"\"\n",
    "        Return number of elements sorted in array\n",
    "        \"\"\"\n",
    "        return self.n\n",
    "    \n",
    "    def __getitem__(self,k):\n",
    "        \"\"\"\n",
    "        Return element at index k\n",
    "        \"\"\"\n",
    "        if not 0 <= k <self.n:\n",
    "            return IndexError('K is out of bounds!') # Check it k index is in bounds of array\n",
    "        \n",
    "        return self.A[k] #Retrieve from array at index k\n",
    "        \n",
    "    def append(self, ele):\n",
    "        \"\"\"\n",
    "        Add element to end of the array\n",
    "        \"\"\"\n",
    "        if self.n == self.capacity: # if our count is equal to the capacity,\n",
    "            self._resize(2*self.capacity) #Double capacity if not enough room\n",
    "        \n",
    "        self.A[self.n] = ele #Set self.n index to element\n",
    "        self.n += 1\n",
    "        \n",
    "    def _resize(self,new_cap):\n",
    "        \"\"\"\n",
    "        Resize internal array to capacity new_cap\n",
    "        \"\"\"\n",
    "        \n",
    "        B = self.make_array(new_cap) # New bigger array\n",
    "        \n",
    "        for k in range(self.n): # Reference all existing values\n",
    "            B[k] = self.A[k]\n",
    "            \n",
    "        self.A = B # Call A the new bigger array\n",
    "        self.capacity = new_cap # Reset the capacity\n",
    "        \n",
    "    def make_array(self,new_cap):\n",
    "        \"\"\"\n",
    "        Returns a new array with new_cap capacity\n",
    "        \"\"\"\n",
    "        return (new_cap * ctypes.py_object)()"
   ]
  },
  {
   "cell_type": "code",
   "execution_count": 14,
   "metadata": {},
   "outputs": [],
   "source": [
    "# Instantiate our DynamicArray class\n",
    "arr = DynamicArray()"
   ]
  },
  {
   "cell_type": "code",
   "execution_count": 15,
   "metadata": {},
   "outputs": [],
   "source": [
    "# Append a new element\n",
    "# This will skip the if statement because length isn't equal to max\n",
    "# Then it will set the current index value to the number 1.\n",
    "# It will then add 1 to the current index\n",
    "arr.append(1)"
   ]
  },
  {
   "cell_type": "code",
   "execution_count": 16,
   "metadata": {},
   "outputs": [
    {
     "data": {
      "text/plain": [
       "1"
      ]
     },
     "execution_count": 16,
     "metadata": {},
     "output_type": "execute_result"
    }
   ],
   "source": [
    "# Check length\n",
    "len(arr)"
   ]
  },
  {
   "cell_type": "code",
   "execution_count": 17,
   "metadata": {},
   "outputs": [],
   "source": [
    "# Length Append new element\n",
    "# Now n == capacity, so the _resize(self,2) method will be called\n",
    "# B is created and we call the make_array(self,2) method\n",
    "# make_array returns 2 * py_object list\n",
    "# Back to _resize, we set the values in B equal to those in A\n",
    "# Set A equal to B\n",
    "# Set the capacity equal to the new capacity of 2\n",
    "# Now back to append(). Set index n equal to our input number 2\n",
    "# Add one to n (should now be 2)\n",
    "arr.append(2)"
   ]
  },
  {
   "cell_type": "code",
   "execution_count": 18,
   "metadata": {},
   "outputs": [
    {
     "data": {
      "text/plain": [
       "2"
      ]
     },
     "execution_count": 18,
     "metadata": {},
     "output_type": "execute_result"
    }
   ],
   "source": [
    "# Check length\n",
    "len(arr)"
   ]
  },
  {
   "cell_type": "code",
   "execution_count": 19,
   "metadata": {},
   "outputs": [
    {
     "data": {
      "text/plain": [
       "1"
      ]
     },
     "execution_count": 19,
     "metadata": {},
     "output_type": "execute_result"
    }
   ],
   "source": [
    "# Index\n",
    "arr[0]"
   ]
  },
  {
   "cell_type": "code",
   "execution_count": 20,
   "metadata": {},
   "outputs": [
    {
     "data": {
      "text/plain": [
       "2"
      ]
     },
     "execution_count": 20,
     "metadata": {},
     "output_type": "execute_result"
    }
   ],
   "source": [
    "arr[1]"
   ]
  },
  {
   "cell_type": "code",
   "execution_count": 22,
   "metadata": {},
   "outputs": [],
   "source": [
    "arr.append(3)"
   ]
  },
  {
   "cell_type": "code",
   "execution_count": 25,
   "metadata": {},
   "outputs": [
    {
     "data": {
      "text/plain": [
       "3"
      ]
     },
     "execution_count": 25,
     "metadata": {},
     "output_type": "execute_result"
    }
   ],
   "source": [
    "arr[2]"
   ]
  },
  {
   "cell_type": "code",
   "execution_count": 26,
   "metadata": {},
   "outputs": [
    {
     "data": {
      "text/plain": [
       "3"
      ]
     },
     "execution_count": 26,
     "metadata": {},
     "output_type": "execute_result"
    }
   ],
   "source": [
    "arr.n"
   ]
  },
  {
   "cell_type": "code",
   "execution_count": 27,
   "metadata": {},
   "outputs": [
    {
     "data": {
      "text/plain": [
       "64"
      ]
     },
     "execution_count": 27,
     "metadata": {},
     "output_type": "execute_result"
    }
   ],
   "source": [
    "sys.getsizeof(arr)"
   ]
  },
  {
   "cell_type": "markdown",
   "metadata": {},
   "source": [
    "Awesome, we made our own dynamic array! Play around with it and see how it auto-resizes. Try using the same **sys.getsizeof()** function we worked with previously!"
   ]
  },
  {
   "cell_type": "markdown",
   "metadata": {},
   "source": [
    "# Great Job!"
   ]
  }
 ],
 "metadata": {
  "kernelspec": {
   "display_name": "Python 2",
   "language": "python",
   "name": "python2"
  },
  "language_info": {
   "codemirror_mode": {
    "name": "ipython",
    "version": 2
   },
   "file_extension": ".py",
   "mimetype": "text/x-python",
   "name": "python",
   "nbconvert_exporter": "python",
   "pygments_lexer": "ipython2",
   "version": "2.7.13"
  }
 },
 "nbformat": 4,
 "nbformat_minor": 1
}
