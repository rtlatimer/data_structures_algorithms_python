{
 "cells": [
  {
   "cell_type": "markdown",
   "metadata": {},
   "source": [
    "# Balanced Parentheses Check \n",
    "\n",
    "## Problem Statement\n",
    "\n",
    "Given a string of opening and closing parentheses, check whether it’s balanced. We have 3 types of parentheses: round brackets: (), square brackets: [], and curly brackets: {}. Assume that the string doesn’t contain any other character than these, no spaces words or numbers. As a reminder, balanced parentheses require every opening parenthesis to be closed in the reverse order opened. For example ‘([])’ is balanced but ‘([)]’ is not. \n",
    "\n",
    "\n",
    "You can assume the input string has no spaces.\n",
    "\n",
    "## Solution\n",
    "\n",
    "Fill out your solution below:"
   ]
  },
  {
   "cell_type": "code",
   "execution_count": 10,
   "metadata": {},
   "outputs": [
    {
     "name": "stdout",
     "output_type": "stream",
     "text": [
      "Number of '(':  2\n",
      "Number of ')':  2\n",
      "Number of '[':  4\n",
      "Number of ']':  4\n",
      "Number of '{':  1\n",
      "Number of '}':  1\n"
     ]
    }
   ],
   "source": [
    "# Edge cases - if the string contains an odd number of brackets, it's not balanced\n",
    "# ( can only be followed by ),(,[, or {\n",
    "# [ can only be followed by ],[,(, or {\n",
    "# { can only be followed by },{,(, or [\n",
    "# there must be an equal amount of open and closed\n",
    "\n",
    "string = '[](){([[[]]])}'\n",
    "\n",
    "if len(string) % 2 != 0:\n",
    "    print False\n",
    "    \n",
    "    \n",
    "round_list = ['(',')','[','{']\n",
    "square_list = ['[',']','(','{']\n",
    "curly_list = ['{','}','(','[']\n",
    "open_list = ['(','[','{']\n",
    "closed_list = [')',']','}']\n",
    "\n",
    "if string[0] not in open_list:\n",
    "    print False\n",
    "if string[-1] not in closed_list:\n",
    "    print False\n",
    "\n",
    "for char in range(len(string)):\n",
    "    if string[char] == '(' and string[char+1] not in round_list:\n",
    "        print False\n",
    "    elif string[char] == '[' and string[char+1] not in square_list:\n",
    "        print False\n",
    "    elif string[char] == '{' and string[char+1] not in curly_list:\n",
    "        print False\n",
    "        \n",
    "if string.count('(') != string.count(')'):\n",
    "    print False\n",
    "if string.count('[') != string.count(']'):\n",
    "    print False\n",
    "if string.count('{') != string.count('}'):\n",
    "    print False\n",
    "\n",
    "print \"Number of '(': \",string.count('(')\n",
    "print \"Number of ')': \",string.count(')')\n",
    "print \"Number of '[': \",string.count('[')\n",
    "print \"Number of ']': \",string.count(']')\n",
    "print \"Number of '{': \",string.count('{')\n",
    "print \"Number of '}': \",string.count('}')\n"
   ]
  },
  {
   "cell_type": "code",
   "execution_count": 13,
   "metadata": {
    "collapsed": true
   },
   "outputs": [],
   "source": [
    "def balance_check(s):\n",
    "    if len(s) % 2 != 0:\n",
    "        return False\n",
    "    if s.count('(') != s.count(')'):\n",
    "        return False\n",
    "    if s.count('[') != s.count(']'):\n",
    "        return False\n",
    "    if s.count('{') != s.count('}'):\n",
    "        return False\n",
    "    \n",
    "    round_list = ['(',')','[','{']\n",
    "    square_list = ['[',']','(','{']\n",
    "    curly_list = ['{','}','(','[']\n",
    "    open_list = ['(','[','{']\n",
    "    closed_list = [')',']','}']\n",
    "\n",
    "    if s[0] not in open_list:\n",
    "        return False\n",
    "    if s[-1] not in closed_list:\n",
    "        return False\n",
    "\n",
    "    for char in range(len(s)):\n",
    "        if s[char] == '(' and s[char+1] not in round_list:\n",
    "            return False\n",
    "        elif s[char] == '[' and s[char+1] not in square_list:\n",
    "            return False\n",
    "        elif s[char] == '{' and s[char+1] not in curly_list:\n",
    "            return False\n",
    "    return True\n"
   ]
  },
  {
   "cell_type": "code",
   "execution_count": 14,
   "metadata": {},
   "outputs": [
    {
     "data": {
      "text/plain": [
       "True"
      ]
     },
     "execution_count": 14,
     "metadata": {},
     "output_type": "execute_result"
    }
   ],
   "source": [
    "balance_check('[]')"
   ]
  },
  {
   "cell_type": "code",
   "execution_count": 15,
   "metadata": {},
   "outputs": [
    {
     "data": {
      "text/plain": [
       "True"
      ]
     },
     "execution_count": 15,
     "metadata": {},
     "output_type": "execute_result"
    }
   ],
   "source": [
    "balance_check('[](){([[[]]])}')"
   ]
  },
  {
   "cell_type": "code",
   "execution_count": 16,
   "metadata": {},
   "outputs": [
    {
     "data": {
      "text/plain": [
       "False"
      ]
     },
     "execution_count": 16,
     "metadata": {},
     "output_type": "execute_result"
    }
   ],
   "source": [
    "balance_check('()(){]}')"
   ]
  },
  {
   "cell_type": "code",
   "execution_count": 18,
   "metadata": {},
   "outputs": [
    {
     "data": {
      "text/plain": [
       "True"
      ]
     },
     "execution_count": 18,
     "metadata": {},
     "output_type": "execute_result"
    }
   ],
   "source": [
    "balance_check('()(){}')"
   ]
  },
  {
   "cell_type": "code",
   "execution_count": 26,
   "metadata": {},
   "outputs": [
    {
     "data": {
      "text/plain": [
       "True"
      ]
     },
     "execution_count": 26,
     "metadata": {},
     "output_type": "execute_result"
    }
   ],
   "source": [
    "balance_check('()(()({}))(())')"
   ]
  },
  {
   "cell_type": "markdown",
   "metadata": {},
   "source": [
    "# Test Your Solution"
   ]
  },
  {
   "cell_type": "code",
   "execution_count": 17,
   "metadata": {},
   "outputs": [
    {
     "name": "stdout",
     "output_type": "stream",
     "text": [
      "ALL TEST CASES PASSED\n"
     ]
    }
   ],
   "source": [
    "\"\"\"\n",
    "RUN THIS CELL TO TEST YOUR SOLUTION\n",
    "\"\"\"\n",
    "from nose.tools import assert_equal\n",
    "\n",
    "class TestBalanceCheck(object):\n",
    "    \n",
    "    def test(self,sol):\n",
    "        assert_equal(sol('[](){([[[]]])}('),False)\n",
    "        assert_equal(sol('[{{{(())}}}]((()))'),True)\n",
    "        assert_equal(sol('[[[]])]'),False)\n",
    "        print 'ALL TEST CASES PASSED'\n",
    "        \n",
    "# Run Tests\n",
    "\n",
    "t = TestBalanceCheck()\n",
    "t.test(balance_check)"
   ]
  },
  {
   "cell_type": "markdown",
   "metadata": {},
   "source": [
    "### Another Solution"
   ]
  },
  {
   "cell_type": "code",
   "execution_count": 56,
   "metadata": {
    "collapsed": true
   },
   "outputs": [],
   "source": [
    "def balance_check2(s):\n",
    "    \n",
    "    if len(s) % 2 != 0:\n",
    "        return False\n",
    "    \n",
    "    # create a set of opening brackets\n",
    "    opening = set('([{')\n",
    "    \n",
    "    # create set of matching pairs\n",
    "    matches = set([ ('(',')'),('[',']'),('{','}') ])\n",
    "    \n",
    "    # create a stack (which is basically a Python list)\n",
    "    \n",
    "    stack = []\n",
    "    for paren in s:\n",
    "        if paren in opening:\n",
    "            stack.append(paren)\n",
    "            #print stack\n",
    "        else:\n",
    "            if len(stack) == 0:\n",
    "                return False # This tells us that the first bracket is either ),], or }\n",
    "\n",
    "            # all the brackets in stack will only be (,[, or {\n",
    "            # last_open is equal to the last open bracket on the list, say '['\n",
    "            last_open = stack.pop()\n",
    "            #print last_open, paren\n",
    "\n",
    "            # If the current 'paren' we are considering is ']',\n",
    "            # then our last_open and paren would be [&] which would be a match\n",
    "            if (last_open,paren) not in matches:\n",
    "                return False\n",
    "    \n",
    "    # if we have found a match for every opening, then we should have popped all items off of our list   \n",
    "    return len(stack) == 0\n",
    "        "
   ]
  },
  {
   "cell_type": "code",
   "execution_count": 57,
   "metadata": {},
   "outputs": [
    {
     "data": {
      "text/plain": [
       "True"
      ]
     },
     "execution_count": 57,
     "metadata": {},
     "output_type": "execute_result"
    }
   ],
   "source": [
    "balance_check2('[]')"
   ]
  },
  {
   "cell_type": "code",
   "execution_count": 58,
   "metadata": {},
   "outputs": [
    {
     "data": {
      "text/plain": [
       "True"
      ]
     },
     "execution_count": 58,
     "metadata": {},
     "output_type": "execute_result"
    }
   ],
   "source": [
    "balance_check2('[](){([[[]]])}')"
   ]
  },
  {
   "cell_type": "code",
   "execution_count": 59,
   "metadata": {},
   "outputs": [
    {
     "data": {
      "text/plain": [
       "False"
      ]
     },
     "execution_count": 59,
     "metadata": {},
     "output_type": "execute_result"
    }
   ],
   "source": [
    "balance_check2('()(){]}{')"
   ]
  },
  {
   "cell_type": "code",
   "execution_count": null,
   "metadata": {
    "collapsed": true
   },
   "outputs": [],
   "source": []
  }
 ],
 "metadata": {
  "kernelspec": {
   "display_name": "Python 2",
   "language": "python",
   "name": "python2"
  },
  "language_info": {
   "codemirror_mode": {
    "name": "ipython",
    "version": 2
   },
   "file_extension": ".py",
   "mimetype": "text/x-python",
   "name": "python",
   "nbconvert_exporter": "python",
   "pygments_lexer": "ipython2",
   "version": "2.7.13"
  }
 },
 "nbformat": 4,
 "nbformat_minor": 1
}
