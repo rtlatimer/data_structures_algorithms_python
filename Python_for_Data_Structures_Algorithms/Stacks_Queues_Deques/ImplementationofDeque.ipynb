{
 "cells": [
  {
   "cell_type": "markdown",
   "metadata": {},
   "source": [
    "# Implementation of Deque\n",
    "\n",
    "In this lecture we will implement our own Deque class!\n",
    "\n",
    "## Methods and Attributes\n",
    "\n",
    "* Deque() creates a new deque that is empty. It needs no parameters and returns an empty deque.\n",
    "* addFront(item) adds a new item to the front of the deque. It needs the item and returns nothing.\n",
    "* addRear(item) adds a new item to the rear of the deque. It needs the item and returns nothing.\n",
    "* removeFront() removes the front item from the deque. It needs no parameters and returns the item. The deque is modified.\n",
    "* removeRear() removes the rear item from the deque. It needs no parameters and returns the item. The deque is modified.\n",
    "* isEmpty() tests to see whether the deque is empty. It needs no parameters and returns a boolean value.\n",
    "* size() returns the number of items in the deque. It needs no parameters and returns an integer.\n",
    "\n",
    "### Example: Fast Pass at Disneyland\n",
    "* **Deque()** is creating an empty line for a rollercoaster.\n",
    "* **addFront(item)** if a person walks up with a fast-pass tickets, they get to skip to the front of the line.\n",
    "* **addRear(item)** a person without a fast-pass has to get in the back of the line.\n",
    "* **removeFront()** a seat has opened up and the person at the front of the line gets on the ride.\n",
    "* **removeRear()** a person at the back of the line thinks the line is way too long and leaves to go on a different ride.\n",
    "* **isEmpty()** checks to see if there is anyone waiting in line\n",
    "* **size()** how many people are waiting in line?\n",
    "\n",
    "## Deque Implementation"
   ]
  },
  {
   "cell_type": "code",
   "execution_count": 1,
   "metadata": {
    "collapsed": true
   },
   "outputs": [],
   "source": [
    "class Deque(object):\n",
    "    def __init__(self):\n",
    "        self.items = [] # create an empty list\n",
    "\n",
    "    def isEmpty(self):\n",
    "        return self.items == [] # Returns True is line is empty\n",
    "\n",
    "    def addFront(self, item):\n",
    "        self.items.append(item) # Adds an item to the front of the line\n",
    "\n",
    "    def addRear(self, item):\n",
    "        self.items.insert(0,item) # Adds an item at the back of the line\n",
    "\n",
    "    def removeFront(self):\n",
    "        return self.items.pop() # Removes item from the front of the line\n",
    "\n",
    "    def removeRear(self):\n",
    "        return self.items.pop(0) # Removes item from back of the line\n",
    "\n",
    "    def size(self):\n",
    "        return len(self.items) # How many items in line?"
   ]
  },
  {
   "cell_type": "code",
   "execution_count": 2,
   "metadata": {
    "collapsed": true
   },
   "outputs": [],
   "source": [
    "d = Deque()"
   ]
  },
  {
   "cell_type": "code",
   "execution_count": 3,
   "metadata": {
    "collapsed": true
   },
   "outputs": [],
   "source": [
    "d.addFront('hello')"
   ]
  },
  {
   "cell_type": "code",
   "execution_count": 4,
   "metadata": {
    "collapsed": true
   },
   "outputs": [],
   "source": [
    "d.addRear('world')"
   ]
  },
  {
   "cell_type": "code",
   "execution_count": 5,
   "metadata": {},
   "outputs": [
    {
     "data": {
      "text/plain": [
       "2"
      ]
     },
     "execution_count": 5,
     "metadata": {},
     "output_type": "execute_result"
    }
   ],
   "source": [
    "d.size()"
   ]
  },
  {
   "cell_type": "code",
   "execution_count": 6,
   "metadata": {},
   "outputs": [
    {
     "name": "stdout",
     "output_type": "stream",
     "text": [
      "hello world\n"
     ]
    }
   ],
   "source": [
    "print d.removeFront() + ' ' +  d.removeRear()"
   ]
  },
  {
   "cell_type": "code",
   "execution_count": 7,
   "metadata": {},
   "outputs": [
    {
     "data": {
      "text/plain": [
       "0"
      ]
     },
     "execution_count": 7,
     "metadata": {},
     "output_type": "execute_result"
    }
   ],
   "source": [
    "d.size()"
   ]
  },
  {
   "cell_type": "markdown",
   "metadata": {},
   "source": [
    "## Good Job!"
   ]
  }
 ],
 "metadata": {
  "kernelspec": {
   "display_name": "Python 2",
   "language": "python",
   "name": "python2"
  },
  "language_info": {
   "codemirror_mode": {
    "name": "ipython",
    "version": 2
   },
   "file_extension": ".py",
   "mimetype": "text/x-python",
   "name": "python",
   "nbconvert_exporter": "python",
   "pygments_lexer": "ipython2",
   "version": "2.7.13"
  }
 },
 "nbformat": 4,
 "nbformat_minor": 1
}
