{
 "cells": [
  {
   "cell_type": "markdown",
   "metadata": {},
   "source": [
    "# Implementation of Queue\n",
    "\n",
    "In this lecture we will build on our previous understanding of Queues by implementing our own class of Queue!"
   ]
  },
  {
   "cell_type": "markdown",
   "metadata": {
    "collapsed": true
   },
   "source": [
    "____\n",
    "## Queue Methods and Attributes\n",
    "\n",
    "\n",
    "Before we begin implementing our own queue, let's review the attribute and methods it will have:\n",
    "\n",
    "* Queue() creates a new queue that is empty. It needs no parameters and returns an empty queue.\n",
    "* enqueue(item) adds a new item to the rear of the queue. It needs the item and returns nothing.\n",
    "* dequeue() removes the front item from the queue. It needs no parameters and returns the item. The queue is modified.\n",
    "* isEmpty() tests to see whether the queue is empty. It needs no parameters and returns a boolean value.\n",
    "* size() returns the number of items in the queue. It needs no parameters and returns an integer."
   ]
  },
  {
   "cell_type": "markdown",
   "metadata": {},
   "source": [
    "### Example: Roping off a Line at the Movies\n",
    "\n",
    "* **Queue()** is like roping off a single file line for people to stand in.\n",
    "* **enqueue(item)** is a person getting in the back of the line.\n",
    "* **dequeue()** is a customer at the front of the line that paid for their ticket and walks into the theatre\n",
    "* **isEmpty()** checks to see if anyone is in line.\n",
    "* **size()** how many people are in line?"
   ]
  },
  {
   "cell_type": "markdown",
   "metadata": {},
   "source": [
    "____\n",
    "## Queue Implementation"
   ]
  },
  {
   "cell_type": "code",
   "execution_count": 2,
   "metadata": {
    "collapsed": true
   },
   "outputs": [],
   "source": [
    "class Queue(object):\n",
    "    def __init__(self):\n",
    "        self.items = [] # set items to an empty list\n",
    "\n",
    "    def isEmpty(self):\n",
    "        return self.items == [] # return True is queue is empty\n",
    "\n",
    "    def enqueue(self, item):\n",
    "        self.items.insert(0,item) # add an item at the start of the queue\n",
    "\n",
    "    def dequeue(self):\n",
    "        return self.items.pop() # removes an item from the end of the queue\n",
    "\n",
    "    def size(self):\n",
    "        return len(self.items) # counts the items in the queue"
   ]
  },
  {
   "cell_type": "code",
   "execution_count": 3,
   "metadata": {
    "collapsed": true
   },
   "outputs": [],
   "source": [
    "# instantiate a queue object \n",
    "q = Queue()"
   ]
  },
  {
   "cell_type": "code",
   "execution_count": 4,
   "metadata": {},
   "outputs": [
    {
     "data": {
      "text/plain": [
       "0"
      ]
     },
     "execution_count": 4,
     "metadata": {},
     "output_type": "execute_result"
    }
   ],
   "source": [
    "# How many items in the queue?\n",
    "q.size()"
   ]
  },
  {
   "cell_type": "code",
   "execution_count": 5,
   "metadata": {},
   "outputs": [
    {
     "data": {
      "text/plain": [
       "True"
      ]
     },
     "execution_count": 5,
     "metadata": {},
     "output_type": "execute_result"
    }
   ],
   "source": [
    "# Are there any items in the queue?\n",
    "q.isEmpty()"
   ]
  },
  {
   "cell_type": "code",
   "execution_count": 6,
   "metadata": {
    "collapsed": true
   },
   "outputs": [],
   "source": [
    "# Add an item to the start of the queue\n",
    "q.enqueue(1)"
   ]
  },
  {
   "cell_type": "code",
   "execution_count": 7,
   "metadata": {
    "collapsed": true
   },
   "outputs": [],
   "source": [
    "q.enqueue(2)"
   ]
  },
  {
   "cell_type": "code",
   "execution_count": 8,
   "metadata": {},
   "outputs": [
    {
     "data": {
      "text/plain": [
       "1"
      ]
     },
     "execution_count": 8,
     "metadata": {},
     "output_type": "execute_result"
    }
   ],
   "source": [
    "# FIFO\n",
    "q.dequeue()"
   ]
  },
  {
   "cell_type": "code",
   "execution_count": 9,
   "metadata": {},
   "outputs": [
    {
     "data": {
      "text/plain": [
       "2"
      ]
     },
     "execution_count": 9,
     "metadata": {},
     "output_type": "execute_result"
    }
   ],
   "source": [
    "q.dequeue()"
   ]
  },
  {
   "cell_type": "markdown",
   "metadata": {},
   "source": [
    "## Good Job!"
   ]
  }
 ],
 "metadata": {
  "kernelspec": {
   "display_name": "Python 2",
   "language": "python",
   "name": "python2"
  },
  "language_info": {
   "codemirror_mode": {
    "name": "ipython",
    "version": 2
   },
   "file_extension": ".py",
   "mimetype": "text/x-python",
   "name": "python",
   "nbconvert_exporter": "python",
   "pygments_lexer": "ipython2",
   "version": "2.7.13"
  }
 },
 "nbformat": 4,
 "nbformat_minor": 1
}
