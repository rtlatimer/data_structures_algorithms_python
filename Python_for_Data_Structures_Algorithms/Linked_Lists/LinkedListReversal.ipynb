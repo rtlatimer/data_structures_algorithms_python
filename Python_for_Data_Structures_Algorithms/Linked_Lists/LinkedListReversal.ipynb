{
 "cells": [
  {
   "cell_type": "markdown",
   "metadata": {},
   "source": [
    "# Linked List Reversal \n",
    "\n",
    "## Problem\n",
    "\n",
    "Write a function to reverse a Linked List in place. The function will take in the head of the list as input and return the new head of the list.\n",
    "\n",
    "You are given the example Linked List Node class:"
   ]
  },
  {
   "cell_type": "code",
   "execution_count": 1,
   "metadata": {
    "collapsed": true
   },
   "outputs": [],
   "source": [
    "class Node(object):\n",
    "    \n",
    "    def __init__(self,value):\n",
    "        \n",
    "        self.value = value\n",
    "        self.nextnode = None"
   ]
  },
  {
   "cell_type": "markdown",
   "metadata": {},
   "source": [
    "# Solution\n",
    "\n",
    "Fill out your solution below:"
   ]
  },
  {
   "cell_type": "code",
   "execution_count": 28,
   "metadata": {},
   "outputs": [
    {
     "name": "stdout",
     "output_type": "stream",
     "text": [
      " temp value 1\n",
      "temp nextnode 2\n",
      "current 2\n",
      "current next 3\n",
      "temp value 2\n",
      "temp nextnode 3\n",
      "current 3\n",
      "current next 4\n",
      "temp value 3\n",
      "temp nextnode 4\n",
      "current 4\n",
      "current 4\n",
      "current new next 3\n",
      "current 3\n",
      "temp value 1\n",
      "temp nextnode 2\n",
      "current 2\n",
      "current next 3\n",
      "temp value 2\n",
      "temp nextnode 3\n",
      "current 3\n",
      "current 3\n",
      "current new next 2\n",
      "current 2\n",
      "temp value 1\n",
      "temp nextnode 2\n",
      "current 2\n",
      "current 2\n",
      "current new next 1\n",
      "current 1\n"
     ]
    }
   ],
   "source": [
    "# PRACTICE AREA\n",
    "\n",
    "a = Node(1)\n",
    "b = Node(2)\n",
    "c = Node(3)\n",
    "d = Node(4)\n",
    "\n",
    "a.nextnode = b\n",
    "b.nextnode = c\n",
    "c.nextnode = d\n",
    "\n",
    "start = a\n",
    "current = a\n",
    "\n",
    "while current != None and current.nextnode != None:\n",
    "    temp = current\n",
    "    print \"temp value\",temp.value\n",
    "    print \"temp nextnode\", temp.nextnode.value\n",
    "    current = current.nextnode\n",
    "    print \"current\",current.value\n",
    "    if current.nextnode != None:\n",
    "        print \"current next\", current.nextnode.value\n",
    "    if current.nextnode == None:\n",
    "        current.nextnode = temp\n",
    "        print \"current\",current.value\n",
    "        print \"current new next\",current.nextnode.value\n",
    "        current = current.nextnode\n",
    "        current.nextnode = None\n",
    "        print \"current\",current.value\n",
    "        current = start"
   ]
  },
  {
   "cell_type": "markdown",
   "metadata": {},
   "source": [
    "We created a linked list that looks like this:\n",
    "\n",
    "a -> b -> c -> d\n",
    "\n",
    "And we want to convert it to look like this:\n",
    "\n",
    "a <- b <- c <- d\n",
    "\n",
    "*What do we know?*\n",
    " - In the first linked list, **a** has a nextnode value, but in the reversed version, it should not have a value for nextnode.\n",
    " - The opposite is true with the last node **d**. It does not have a nextnode value in the orignal linked list, but should have one in the reversed linked list."
   ]
  },
  {
   "cell_type": "code",
   "execution_count": 36,
   "metadata": {
    "collapsed": true
   },
   "outputs": [],
   "source": [
    "def reverse(head):\n",
    "    start = head\n",
    "    current = head\n",
    "\n",
    "    while current != None and current.nextnode != None:\n",
    "        temp = current\n",
    "        current = current.nextnode\n",
    "        if current.nextnode == None:\n",
    "            current.nextnode = temp\n",
    "            current = current.nextnode\n",
    "            current.nextnode = None\n",
    "            current = start"
   ]
  },
  {
   "cell_type": "markdown",
   "metadata": {},
   "source": [
    "# Test Your Solution\n",
    "\n",
    "**Note, this isn't a classic run cell for testing your solution, please read the statements below carefully**\n",
    "\n",
    "You should be able to easily test your own solution to make sure it works. Given the short list a,b,c,d with values 1,2,3,4. Check the effect of your reverse function and make sure the results match the logic here below:"
   ]
  },
  {
   "cell_type": "code",
   "execution_count": 37,
   "metadata": {
    "collapsed": true
   },
   "outputs": [],
   "source": [
    "# Create a list of 4 nodes\n",
    "a = Node(1)\n",
    "b = Node(2)\n",
    "c = Node(3)\n",
    "d = Node(4)\n",
    "\n",
    "# Set up order a,b,c,d with values 1,2,3,4\n",
    "a.nextnode = b\n",
    "b.nextnode = c\n",
    "c.nextnode = d"
   ]
  },
  {
   "cell_type": "markdown",
   "metadata": {},
   "source": [
    "Now let's check the values of the nodes coming after a, b and c:"
   ]
  },
  {
   "cell_type": "code",
   "execution_count": 38,
   "metadata": {},
   "outputs": [
    {
     "name": "stdout",
     "output_type": "stream",
     "text": [
      "2\n",
      "3\n",
      "4\n"
     ]
    }
   ],
   "source": [
    "print a.nextnode.value\n",
    "print b.nextnode.value\n",
    "print c.nextnode.value"
   ]
  },
  {
   "cell_type": "code",
   "execution_count": 39,
   "metadata": {},
   "outputs": [
    {
     "ename": "AttributeError",
     "evalue": "'NoneType' object has no attribute 'value'",
     "output_type": "error",
     "traceback": [
      "\u001b[0;31m---------------------------------------------------------------------------\u001b[0m",
      "\u001b[0;31mAttributeError\u001b[0m                            Traceback (most recent call last)",
      "\u001b[0;32m<ipython-input-39-be675f4ae643>\u001b[0m in \u001b[0;36m<module>\u001b[0;34m()\u001b[0m\n\u001b[0;32m----> 1\u001b[0;31m \u001b[0md\u001b[0m\u001b[0;34m.\u001b[0m\u001b[0mnextnode\u001b[0m\u001b[0;34m.\u001b[0m\u001b[0mvalue\u001b[0m\u001b[0;34m\u001b[0m\u001b[0m\n\u001b[0m",
      "\u001b[0;31mAttributeError\u001b[0m: 'NoneType' object has no attribute 'value'"
     ]
    }
   ],
   "source": [
    "d.nextnode.value"
   ]
  },
  {
   "cell_type": "markdown",
   "metadata": {},
   "source": [
    "So far so good. Note how there is no value proceeding the last node, this makes sense! Now let's reverse the linked list, we should see the opposite order of values!"
   ]
  },
  {
   "cell_type": "code",
   "execution_count": 40,
   "metadata": {},
   "outputs": [],
   "source": [
    "reverse(a)"
   ]
  },
  {
   "cell_type": "code",
   "execution_count": 41,
   "metadata": {},
   "outputs": [
    {
     "name": "stdout",
     "output_type": "stream",
     "text": [
      "3\n",
      "2\n",
      "1\n"
     ]
    }
   ],
   "source": [
    "print d.nextnode.value\n",
    "print c.nextnode.value\n",
    "print b.nextnode.value"
   ]
  },
  {
   "cell_type": "code",
   "execution_count": 42,
   "metadata": {},
   "outputs": [
    {
     "ename": "AttributeError",
     "evalue": "'NoneType' object has no attribute 'value'",
     "output_type": "error",
     "traceback": [
      "\u001b[0;31m---------------------------------------------------------------------------\u001b[0m",
      "\u001b[0;31mAttributeError\u001b[0m                            Traceback (most recent call last)",
      "\u001b[0;32m<ipython-input-42-4057c9bc3c14>\u001b[0m in \u001b[0;36m<module>\u001b[0;34m()\u001b[0m\n\u001b[0;32m----> 1\u001b[0;31m \u001b[0;32mprint\u001b[0m \u001b[0ma\u001b[0m\u001b[0;34m.\u001b[0m\u001b[0mnextnode\u001b[0m\u001b[0;34m.\u001b[0m\u001b[0mvalue\u001b[0m \u001b[0;31m# This will give an error since it now points to None\u001b[0m\u001b[0;34m\u001b[0m\u001b[0m\n\u001b[0m",
      "\u001b[0;31mAttributeError\u001b[0m: 'NoneType' object has no attribute 'value'"
     ]
    }
   ],
   "source": [
    "print a.nextnode.value # This will give an error since it now points to None"
   ]
  },
  {
   "cell_type": "markdown",
   "metadata": {},
   "source": [
    "Great, now we can see that each of the values points to its previous value (although now that the linked list is reversed we can see the ordering has also reversed)\n",
    "\n",
    "### Another Solution"
   ]
  },
  {
   "cell_type": "code",
   "execution_count": 46,
   "metadata": {
    "collapsed": true
   },
   "outputs": [],
   "source": [
    "def reverse2(head):\n",
    "    current = head\n",
    "    previous = None\n",
    "    nextnode = None\n",
    "    \n",
    "    while current:\n",
    "        nextnode = current.nextnode\n",
    "        current.nextnode = previous\n",
    "        previous = current\n",
    "        current = nextnode\n",
    "    return previous"
   ]
  },
  {
   "cell_type": "code",
   "execution_count": 47,
   "metadata": {
    "collapsed": true
   },
   "outputs": [],
   "source": [
    "# Create a list of 4 nodes\n",
    "a = Node(1)\n",
    "b = Node(2)\n",
    "c = Node(3)\n",
    "d = Node(4)\n",
    "\n",
    "# Set up order a,b,c,d with values 1,2,3,4\n",
    "a.nextnode = b\n",
    "b.nextnode = c\n",
    "c.nextnode = d"
   ]
  },
  {
   "cell_type": "code",
   "execution_count": 48,
   "metadata": {},
   "outputs": [
    {
     "name": "stdout",
     "output_type": "stream",
     "text": [
      "2\n",
      "3\n",
      "4\n"
     ]
    }
   ],
   "source": [
    "print a.nextnode.value\n",
    "print b.nextnode.value\n",
    "print c.nextnode.value"
   ]
  },
  {
   "cell_type": "code",
   "execution_count": 49,
   "metadata": {},
   "outputs": [
    {
     "data": {
      "text/plain": [
       "<__main__.Node at 0x10c9b7c90>"
      ]
     },
     "execution_count": 49,
     "metadata": {},
     "output_type": "execute_result"
    }
   ],
   "source": [
    "reverse2(a)"
   ]
  },
  {
   "cell_type": "code",
   "execution_count": 50,
   "metadata": {},
   "outputs": [
    {
     "name": "stdout",
     "output_type": "stream",
     "text": [
      "3\n",
      "2\n",
      "1\n"
     ]
    }
   ],
   "source": [
    "print d.nextnode.value\n",
    "print c.nextnode.value\n",
    "print b.nextnode.value"
   ]
  }
 ],
 "metadata": {
  "kernelspec": {
   "display_name": "Python 2",
   "language": "python",
   "name": "python2"
  },
  "language_info": {
   "codemirror_mode": {
    "name": "ipython",
    "version": 2
   },
   "file_extension": ".py",
   "mimetype": "text/x-python",
   "name": "python",
   "nbconvert_exporter": "python",
   "pygments_lexer": "ipython2",
   "version": "2.7.13"
  }
 },
 "nbformat": 4,
 "nbformat_minor": 1
}
